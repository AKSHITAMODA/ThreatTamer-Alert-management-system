{
  "nbformat": 4,
  "nbformat_minor": 0,
  "metadata": {
    "colab": {
      "provenance": [],
      "authorship_tag": "ABX9TyOzmhdxwa+eKkQu3w8QA4oc",
      "include_colab_link": true
    },
    "kernelspec": {
      "name": "python3",
      "display_name": "Python 3"
    },
    "language_info": {
      "name": "python"
    }
  },
  "cells": [
    {
      "cell_type": "markdown",
      "metadata": {
        "id": "view-in-github",
        "colab_type": "text"
      },
      "source": [
        "<a href=\"https://colab.research.google.com/github/AKSHITAMODA/ThreatTamer-Alert-management-system/blob/main/ALert_Management_System_(Hacktivists).ipynb\" target=\"_parent\"><img src=\"https://colab.research.google.com/assets/colab-badge.svg\" alt=\"Open In Colab\"/></a>"
      ]
    },
    {
      "cell_type": "code",
      "source": [
        "# 📦 STEP 1: Install dependencies\n",
        "!pip install scikit-learn pandas joblib pyyaml matplotlib seaborn --quiet\n",
        "!pip install shap --quiet\n",
        "!pip install streamlit pyngrok\n"
      ],
      "metadata": {
        "id": "ObrtiOD6oEXW",
        "colab": {
          "base_uri": "https://localhost:8080/"
        },
        "outputId": "a16d727f-02e2-49d8-d464-a8c321b02ed3"
      },
      "execution_count": 421,
      "outputs": [
        {
          "output_type": "stream",
          "name": "stdout",
          "text": [
            "Requirement already satisfied: streamlit in /usr/local/lib/python3.11/dist-packages (1.47.1)\n",
            "Requirement already satisfied: pyngrok in /usr/local/lib/python3.11/dist-packages (7.2.12)\n",
            "Requirement already satisfied: altair<6,>=4.0 in /usr/local/lib/python3.11/dist-packages (from streamlit) (5.5.0)\n",
            "Requirement already satisfied: blinker<2,>=1.5.0 in /usr/local/lib/python3.11/dist-packages (from streamlit) (1.9.0)\n",
            "Requirement already satisfied: cachetools<7,>=4.0 in /usr/local/lib/python3.11/dist-packages (from streamlit) (5.5.2)\n",
            "Requirement already satisfied: click<9,>=7.0 in /usr/local/lib/python3.11/dist-packages (from streamlit) (8.2.1)\n",
            "Requirement already satisfied: numpy<3,>=1.23 in /usr/local/lib/python3.11/dist-packages (from streamlit) (2.0.2)\n",
            "Requirement already satisfied: packaging<26,>=20 in /usr/local/lib/python3.11/dist-packages (from streamlit) (25.0)\n",
            "Requirement already satisfied: pandas<3,>=1.4.0 in /usr/local/lib/python3.11/dist-packages (from streamlit) (2.2.2)\n",
            "Requirement already satisfied: pillow<12,>=7.1.0 in /usr/local/lib/python3.11/dist-packages (from streamlit) (11.3.0)\n",
            "Requirement already satisfied: protobuf<7,>=3.20 in /usr/local/lib/python3.11/dist-packages (from streamlit) (5.29.5)\n",
            "Requirement already satisfied: pyarrow>=7.0 in /usr/local/lib/python3.11/dist-packages (from streamlit) (18.1.0)\n",
            "Requirement already satisfied: requests<3,>=2.27 in /usr/local/lib/python3.11/dist-packages (from streamlit) (2.32.3)\n",
            "Requirement already satisfied: tenacity<10,>=8.1.0 in /usr/local/lib/python3.11/dist-packages (from streamlit) (8.5.0)\n",
            "Requirement already satisfied: toml<2,>=0.10.1 in /usr/local/lib/python3.11/dist-packages (from streamlit) (0.10.2)\n",
            "Requirement already satisfied: typing-extensions<5,>=4.4.0 in /usr/local/lib/python3.11/dist-packages (from streamlit) (4.14.1)\n",
            "Requirement already satisfied: watchdog<7,>=2.1.5 in /usr/local/lib/python3.11/dist-packages (from streamlit) (6.0.0)\n",
            "Requirement already satisfied: gitpython!=3.1.19,<4,>=3.0.7 in /usr/local/lib/python3.11/dist-packages (from streamlit) (3.1.44)\n",
            "Requirement already satisfied: pydeck<1,>=0.8.0b4 in /usr/local/lib/python3.11/dist-packages (from streamlit) (0.9.1)\n",
            "Requirement already satisfied: tornado!=6.5.0,<7,>=6.0.3 in /usr/local/lib/python3.11/dist-packages (from streamlit) (6.4.2)\n",
            "Requirement already satisfied: PyYAML>=5.1 in /usr/local/lib/python3.11/dist-packages (from pyngrok) (6.0.2)\n",
            "Requirement already satisfied: jinja2 in /usr/local/lib/python3.11/dist-packages (from altair<6,>=4.0->streamlit) (3.1.6)\n",
            "Requirement already satisfied: jsonschema>=3.0 in /usr/local/lib/python3.11/dist-packages (from altair<6,>=4.0->streamlit) (4.25.0)\n",
            "Requirement already satisfied: narwhals>=1.14.2 in /usr/local/lib/python3.11/dist-packages (from altair<6,>=4.0->streamlit) (1.48.0)\n",
            "Requirement already satisfied: gitdb<5,>=4.0.1 in /usr/local/lib/python3.11/dist-packages (from gitpython!=3.1.19,<4,>=3.0.7->streamlit) (4.0.12)\n",
            "Requirement already satisfied: python-dateutil>=2.8.2 in /usr/local/lib/python3.11/dist-packages (from pandas<3,>=1.4.0->streamlit) (2.9.0.post0)\n",
            "Requirement already satisfied: pytz>=2020.1 in /usr/local/lib/python3.11/dist-packages (from pandas<3,>=1.4.0->streamlit) (2025.2)\n",
            "Requirement already satisfied: tzdata>=2022.7 in /usr/local/lib/python3.11/dist-packages (from pandas<3,>=1.4.0->streamlit) (2025.2)\n",
            "Requirement already satisfied: charset-normalizer<4,>=2 in /usr/local/lib/python3.11/dist-packages (from requests<3,>=2.27->streamlit) (3.4.2)\n",
            "Requirement already satisfied: idna<4,>=2.5 in /usr/local/lib/python3.11/dist-packages (from requests<3,>=2.27->streamlit) (3.10)\n",
            "Requirement already satisfied: urllib3<3,>=1.21.1 in /usr/local/lib/python3.11/dist-packages (from requests<3,>=2.27->streamlit) (2.5.0)\n",
            "Requirement already satisfied: certifi>=2017.4.17 in /usr/local/lib/python3.11/dist-packages (from requests<3,>=2.27->streamlit) (2025.7.14)\n",
            "Requirement already satisfied: smmap<6,>=3.0.1 in /usr/local/lib/python3.11/dist-packages (from gitdb<5,>=4.0.1->gitpython!=3.1.19,<4,>=3.0.7->streamlit) (5.0.2)\n",
            "Requirement already satisfied: MarkupSafe>=2.0 in /usr/local/lib/python3.11/dist-packages (from jinja2->altair<6,>=4.0->streamlit) (3.0.2)\n",
            "Requirement already satisfied: attrs>=22.2.0 in /usr/local/lib/python3.11/dist-packages (from jsonschema>=3.0->altair<6,>=4.0->streamlit) (25.3.0)\n",
            "Requirement already satisfied: jsonschema-specifications>=2023.03.6 in /usr/local/lib/python3.11/dist-packages (from jsonschema>=3.0->altair<6,>=4.0->streamlit) (2025.4.1)\n",
            "Requirement already satisfied: referencing>=0.28.4 in /usr/local/lib/python3.11/dist-packages (from jsonschema>=3.0->altair<6,>=4.0->streamlit) (0.36.2)\n",
            "Requirement already satisfied: rpds-py>=0.7.1 in /usr/local/lib/python3.11/dist-packages (from jsonschema>=3.0->altair<6,>=4.0->streamlit) (0.26.0)\n",
            "Requirement already satisfied: six>=1.5 in /usr/local/lib/python3.11/dist-packages (from python-dateutil>=2.8.2->pandas<3,>=1.4.0->streamlit) (1.17.0)\n"
          ]
        }
      ]
    },
    {
      "cell_type": "code",
      "source": [
        "%%writefile app.py\n",
        "import streamlit as st\n",
        "import shap\n",
        "import numpy as np\n",
        "import pandas as pd\n",
        "import matplotlib.pyplot as plt\n",
        "\n",
        "st.set_page_config(page_title=\"SHAP Explainability App\", layout=\"centered\")\n",
        "\n",
        "st.title(\"📊 SHAP Explainability Web App\")\n",
        "\n",
        "# -- Step 1: User Info Form --\n",
        "with st.form(\"user_info_form\"):\n",
        "    name = st.text_input(\"👤 Enter your Name:\")\n",
        "    email = st.text_input(\"📧 Enter your Email:\")\n",
        "    submitted_user = st.form_submit_button(\"✅ Submit\")\n",
        "\n",
        "if submitted_user:\n",
        "    if name and email:\n",
        "        st.success(f\"Welcome {name}! You're ready to upload your file.\")\n",
        "    else:\n",
        "        st.warning(\"⚠️ Please fill in both name and email to continue.\")\n",
        "\n",
        "st.markdown(\"---\")\n",
        "\n",
        "# -- Step 2: CSV Upload --\n",
        "uploaded_file = st.file_uploader(\"📁 Upload your CSV file\", type=[\"csv\"])\n",
        "\n",
        "if uploaded_file is not None:\n",
        "    df = pd.read_csv(uploaded_file)\n",
        "    st.subheader(\"🧾 Uploaded Data:\")\n",
        "    st.dataframe(df)\n",
        "\n",
        "    # Filter only numeric columns\n",
        "    numeric_df = df.select_dtypes(include=[\"int64\", \"float64\"])\n",
        "\n",
        "    if numeric_df.empty:\n",
        "        st.error(\"❌ No numeric columns found for SHAP to process.\")\n",
        "    else:\n",
        "        st.subheader(\"✅ Numeric Features Used:\")\n",
        "        st.dataframe(numeric_df)\n",
        "\n",
        "        # Dummy model: sum of features\n",
        "        explainer = shap.Explainer(lambda x: x.sum(axis=1), numeric_df)\n",
        "        shap_values = explainer(numeric_df)\n",
        "\n",
        "        st.subheader(\"🔢 SHAP Values:\")\n",
        "        st.write(shap_values.values)\n",
        "\n",
        "        st.subheader(\"📈 SHAP Summary Plot:\")\n",
        "        fig, ax = plt.subplots()\n",
        "        shap.summary_plot(shap_values, numeric_df, show=False)\n",
        "        st.pyplot(fig)\n",
        "\n",
        "        st.markdown(\"---\")\n",
        "\n",
        "        # -- Step 3: Feedback Form --\n",
        "        st.subheader(\"📝 Feedback\")\n",
        "        with st.form(\"feedback_form\"):\n",
        "            feedback_text = st.text_area(\"🗒️ What did you think of this app?\", placeholder=\"Type your feedback here...\")\n",
        "            submit_feedback = st.form_submit_button(\"📩 Submit Feedback\")\n",
        "\n",
        "        if submit_feedback:\n",
        "            if feedback_text.strip():\n",
        "                st.success(\"🎉 Thank you for your feedback!\")\n",
        "                # Optional: Log feedback to a file or database here\n",
        "            else:\n",
        "                st.warning(\"⚠️ Please write some feedback before submitting.\")\n",
        "else:\n",
        "    st.info(\"👆 Upload a CSV file to get started.\")\n"
      ],
      "metadata": {
        "id": "WPnSkvlX960G",
        "colab": {
          "base_uri": "https://localhost:8080/"
        },
        "outputId": "b7be5318-6b4b-4494-9b07-2312d4b1fae2"
      },
      "execution_count": 422,
      "outputs": [
        {
          "output_type": "stream",
          "name": "stdout",
          "text": [
            "Overwriting app.py\n"
          ]
        }
      ]
    },
    {
      "cell_type": "code",
      "source": [
        "ngrok.kill()"
      ],
      "metadata": {
        "id": "cHQaO_cyHqKK"
      },
      "execution_count": 423,
      "outputs": []
    },
    {
      "cell_type": "code",
      "source": [
        "\n",
        "from pyngrok import ngrok\n",
        "ngrok.kill()  # Force-close leftover tunnels\n",
        "\n",
        "# Try again\n",
        "NGROK_AUTH_TOKEN = \"30PGoeWzSDoWxyHHuxZD7JFThIu_2FFZUt7t6Ammw6E89Jwtw\"\n",
        "ngrok.set_auth_token(NGROK_AUTH_TOKEN)\n",
        "\n",
        "public_url = ngrok.connect(addr=8501, proto=\"http\")\n",
        "print(f\"🚀 Streamlit app is live at: {public_url}\")\n",
        "\n",
        "!streamlit run app.py &> /content/logs.txt &\n",
        "\n"
      ],
      "metadata": {
        "id": "leV07bnN99SQ",
        "colab": {
          "base_uri": "https://localhost:8080/"
        },
        "outputId": "a154046f-7de8-4083-9a89-89b00778bca5"
      },
      "execution_count": 424,
      "outputs": [
        {
          "output_type": "stream",
          "name": "stdout",
          "text": [
            "🚀 Streamlit app is live at: NgrokTunnel: \"https://17b38f591ec9.ngrok-free.app\" -> \"http://localhost:8501\"\n"
          ]
        }
      ]
    },
    {
      "cell_type": "code",
      "source": [
        "# 📁 STEP 2: Upload your large alert dataset\n",
        "from google.colab import files\n",
        "import io\n",
        "import pandas as pd\n",
        "import os\n",
        "import yaml\n",
        "import joblib\n",
        "import sqlite3\n",
        "import shap\n",
        "from sklearn.ensemble import RandomForestClassifier\n",
        "from sklearn.preprocessing import LabelEncoder\n",
        "from sklearn.model_selection import train_test_split\n",
        "import matplotlib.pyplot as plt\n",
        "import seaborn as sns\n",
        "print(\"📤 Upload your large CSV file (must include: timestamp, src_ip, dest_ip, alert_type, port, severity, label)\")\n",
        "uploaded = files.upload()\n"
      ],
      "metadata": {
        "id": "XBokq5DroEUI",
        "colab": {
          "base_uri": "https://localhost:8080/",
          "height": 110
        },
        "outputId": "0fd0ca01-2e51-4be5-e13f-c220d3d8d678"
      },
      "execution_count": 395,
      "outputs": [
        {
          "output_type": "stream",
          "name": "stdout",
          "text": [
            "📤 Upload your large CSV file (must include: timestamp, src_ip, dest_ip, alert_type, port, severity, label)\n"
          ]
        },
        {
          "output_type": "display_data",
          "data": {
            "text/plain": [
              "<IPython.core.display.HTML object>"
            ],
            "text/html": [
              "\n",
              "     <input type=\"file\" id=\"files-2486247f-02ee-4e5c-a98e-e0fc8833c2eb\" name=\"files[]\" multiple disabled\n",
              "        style=\"border:none\" />\n",
              "     <output id=\"result-2486247f-02ee-4e5c-a98e-e0fc8833c2eb\">\n",
              "      Upload widget is only available when the cell has been executed in the\n",
              "      current browser session. Please rerun this cell to enable.\n",
              "      </output>\n",
              "      <script>// Copyright 2017 Google LLC\n",
              "//\n",
              "// Licensed under the Apache License, Version 2.0 (the \"License\");\n",
              "// you may not use this file except in compliance with the License.\n",
              "// You may obtain a copy of the License at\n",
              "//\n",
              "//      http://www.apache.org/licenses/LICENSE-2.0\n",
              "//\n",
              "// Unless required by applicable law or agreed to in writing, software\n",
              "// distributed under the License is distributed on an \"AS IS\" BASIS,\n",
              "// WITHOUT WARRANTIES OR CONDITIONS OF ANY KIND, either express or implied.\n",
              "// See the License for the specific language governing permissions and\n",
              "// limitations under the License.\n",
              "\n",
              "/**\n",
              " * @fileoverview Helpers for google.colab Python module.\n",
              " */\n",
              "(function(scope) {\n",
              "function span(text, styleAttributes = {}) {\n",
              "  const element = document.createElement('span');\n",
              "  element.textContent = text;\n",
              "  for (const key of Object.keys(styleAttributes)) {\n",
              "    element.style[key] = styleAttributes[key];\n",
              "  }\n",
              "  return element;\n",
              "}\n",
              "\n",
              "// Max number of bytes which will be uploaded at a time.\n",
              "const MAX_PAYLOAD_SIZE = 100 * 1024;\n",
              "\n",
              "function _uploadFiles(inputId, outputId) {\n",
              "  const steps = uploadFilesStep(inputId, outputId);\n",
              "  const outputElement = document.getElementById(outputId);\n",
              "  // Cache steps on the outputElement to make it available for the next call\n",
              "  // to uploadFilesContinue from Python.\n",
              "  outputElement.steps = steps;\n",
              "\n",
              "  return _uploadFilesContinue(outputId);\n",
              "}\n",
              "\n",
              "// This is roughly an async generator (not supported in the browser yet),\n",
              "// where there are multiple asynchronous steps and the Python side is going\n",
              "// to poll for completion of each step.\n",
              "// This uses a Promise to block the python side on completion of each step,\n",
              "// then passes the result of the previous step as the input to the next step.\n",
              "function _uploadFilesContinue(outputId) {\n",
              "  const outputElement = document.getElementById(outputId);\n",
              "  const steps = outputElement.steps;\n",
              "\n",
              "  const next = steps.next(outputElement.lastPromiseValue);\n",
              "  return Promise.resolve(next.value.promise).then((value) => {\n",
              "    // Cache the last promise value to make it available to the next\n",
              "    // step of the generator.\n",
              "    outputElement.lastPromiseValue = value;\n",
              "    return next.value.response;\n",
              "  });\n",
              "}\n",
              "\n",
              "/**\n",
              " * Generator function which is called between each async step of the upload\n",
              " * process.\n",
              " * @param {string} inputId Element ID of the input file picker element.\n",
              " * @param {string} outputId Element ID of the output display.\n",
              " * @return {!Iterable<!Object>} Iterable of next steps.\n",
              " */\n",
              "function* uploadFilesStep(inputId, outputId) {\n",
              "  const inputElement = document.getElementById(inputId);\n",
              "  inputElement.disabled = false;\n",
              "\n",
              "  const outputElement = document.getElementById(outputId);\n",
              "  outputElement.innerHTML = '';\n",
              "\n",
              "  const pickedPromise = new Promise((resolve) => {\n",
              "    inputElement.addEventListener('change', (e) => {\n",
              "      resolve(e.target.files);\n",
              "    });\n",
              "  });\n",
              "\n",
              "  const cancel = document.createElement('button');\n",
              "  inputElement.parentElement.appendChild(cancel);\n",
              "  cancel.textContent = 'Cancel upload';\n",
              "  const cancelPromise = new Promise((resolve) => {\n",
              "    cancel.onclick = () => {\n",
              "      resolve(null);\n",
              "    };\n",
              "  });\n",
              "\n",
              "  // Wait for the user to pick the files.\n",
              "  const files = yield {\n",
              "    promise: Promise.race([pickedPromise, cancelPromise]),\n",
              "    response: {\n",
              "      action: 'starting',\n",
              "    }\n",
              "  };\n",
              "\n",
              "  cancel.remove();\n",
              "\n",
              "  // Disable the input element since further picks are not allowed.\n",
              "  inputElement.disabled = true;\n",
              "\n",
              "  if (!files) {\n",
              "    return {\n",
              "      response: {\n",
              "        action: 'complete',\n",
              "      }\n",
              "    };\n",
              "  }\n",
              "\n",
              "  for (const file of files) {\n",
              "    const li = document.createElement('li');\n",
              "    li.append(span(file.name, {fontWeight: 'bold'}));\n",
              "    li.append(span(\n",
              "        `(${file.type || 'n/a'}) - ${file.size} bytes, ` +\n",
              "        `last modified: ${\n",
              "            file.lastModifiedDate ? file.lastModifiedDate.toLocaleDateString() :\n",
              "                                    'n/a'} - `));\n",
              "    const percent = span('0% done');\n",
              "    li.appendChild(percent);\n",
              "\n",
              "    outputElement.appendChild(li);\n",
              "\n",
              "    const fileDataPromise = new Promise((resolve) => {\n",
              "      const reader = new FileReader();\n",
              "      reader.onload = (e) => {\n",
              "        resolve(e.target.result);\n",
              "      };\n",
              "      reader.readAsArrayBuffer(file);\n",
              "    });\n",
              "    // Wait for the data to be ready.\n",
              "    let fileData = yield {\n",
              "      promise: fileDataPromise,\n",
              "      response: {\n",
              "        action: 'continue',\n",
              "      }\n",
              "    };\n",
              "\n",
              "    // Use a chunked sending to avoid message size limits. See b/62115660.\n",
              "    let position = 0;\n",
              "    do {\n",
              "      const length = Math.min(fileData.byteLength - position, MAX_PAYLOAD_SIZE);\n",
              "      const chunk = new Uint8Array(fileData, position, length);\n",
              "      position += length;\n",
              "\n",
              "      const base64 = btoa(String.fromCharCode.apply(null, chunk));\n",
              "      yield {\n",
              "        response: {\n",
              "          action: 'append',\n",
              "          file: file.name,\n",
              "          data: base64,\n",
              "        },\n",
              "      };\n",
              "\n",
              "      let percentDone = fileData.byteLength === 0 ?\n",
              "          100 :\n",
              "          Math.round((position / fileData.byteLength) * 100);\n",
              "      percent.textContent = `${percentDone}% done`;\n",
              "\n",
              "    } while (position < fileData.byteLength);\n",
              "  }\n",
              "\n",
              "  // All done.\n",
              "  yield {\n",
              "    response: {\n",
              "      action: 'complete',\n",
              "    }\n",
              "  };\n",
              "}\n",
              "\n",
              "scope.google = scope.google || {};\n",
              "scope.google.colab = scope.google.colab || {};\n",
              "scope.google.colab._files = {\n",
              "  _uploadFiles,\n",
              "  _uploadFilesContinue,\n",
              "};\n",
              "})(self);\n",
              "</script> "
            ]
          },
          "metadata": {}
        },
        {
          "output_type": "stream",
          "name": "stderr",
          "text": [
            "WARNING:pyngrok.process.ngrok:t=2025-07-26T10:51:10+0000 lvl=warn msg=\"failed to check for update\" obj=updater err=\"Post \\\"https://update.equinox.io/check\\\": context deadline exceeded\"\n"
          ]
        },
        {
          "output_type": "stream",
          "name": "stdout",
          "text": [
            "Saving large_alerts.csv to large_alerts (14).csv\n"
          ]
        }
      ]
    },
    {
      "cell_type": "code",
      "source": [
        "# 📤 Upload the simulated real-time alert file\n",
        "from google.colab import files\n",
        "import pandas as pd\n",
        "import io\n",
        "\n",
        "print(\"📁 Upload the 'incoming_alerts.csv' file\")\n",
        "uploaded = files.upload()\n",
        "\n",
        "for filename in uploaded.keys():\n",
        "    if filename == \"incoming_alerts.csv\":\n",
        "        df_incoming = pd.read_csv(io.BytesIO(uploaded[filename]))\n",
        "        df_incoming.to_csv(\"incoming_alerts.csv\", index=False)\n",
        "        print(f\"[✔] '{filename}' uploaded and saved.\")\n",
        "    else:\n",
        "        print(f\"[⚠️] Unexpected file uploaded: {filename}\")\n"
      ],
      "metadata": {
        "id": "dUInZa-Q5sMu",
        "colab": {
          "base_uri": "https://localhost:8080/",
          "height": 110
        },
        "outputId": "e500dac1-ad86-4db7-fbbc-e927d0584a84"
      },
      "execution_count": 396,
      "outputs": [
        {
          "output_type": "stream",
          "name": "stdout",
          "text": [
            "📁 Upload the 'incoming_alerts.csv' file\n"
          ]
        },
        {
          "output_type": "display_data",
          "data": {
            "text/plain": [
              "<IPython.core.display.HTML object>"
            ],
            "text/html": [
              "\n",
              "     <input type=\"file\" id=\"files-678eac11-8dd3-4c09-b4d3-d919f1d1d577\" name=\"files[]\" multiple disabled\n",
              "        style=\"border:none\" />\n",
              "     <output id=\"result-678eac11-8dd3-4c09-b4d3-d919f1d1d577\">\n",
              "      Upload widget is only available when the cell has been executed in the\n",
              "      current browser session. Please rerun this cell to enable.\n",
              "      </output>\n",
              "      <script>// Copyright 2017 Google LLC\n",
              "//\n",
              "// Licensed under the Apache License, Version 2.0 (the \"License\");\n",
              "// you may not use this file except in compliance with the License.\n",
              "// You may obtain a copy of the License at\n",
              "//\n",
              "//      http://www.apache.org/licenses/LICENSE-2.0\n",
              "//\n",
              "// Unless required by applicable law or agreed to in writing, software\n",
              "// distributed under the License is distributed on an \"AS IS\" BASIS,\n",
              "// WITHOUT WARRANTIES OR CONDITIONS OF ANY KIND, either express or implied.\n",
              "// See the License for the specific language governing permissions and\n",
              "// limitations under the License.\n",
              "\n",
              "/**\n",
              " * @fileoverview Helpers for google.colab Python module.\n",
              " */\n",
              "(function(scope) {\n",
              "function span(text, styleAttributes = {}) {\n",
              "  const element = document.createElement('span');\n",
              "  element.textContent = text;\n",
              "  for (const key of Object.keys(styleAttributes)) {\n",
              "    element.style[key] = styleAttributes[key];\n",
              "  }\n",
              "  return element;\n",
              "}\n",
              "\n",
              "// Max number of bytes which will be uploaded at a time.\n",
              "const MAX_PAYLOAD_SIZE = 100 * 1024;\n",
              "\n",
              "function _uploadFiles(inputId, outputId) {\n",
              "  const steps = uploadFilesStep(inputId, outputId);\n",
              "  const outputElement = document.getElementById(outputId);\n",
              "  // Cache steps on the outputElement to make it available for the next call\n",
              "  // to uploadFilesContinue from Python.\n",
              "  outputElement.steps = steps;\n",
              "\n",
              "  return _uploadFilesContinue(outputId);\n",
              "}\n",
              "\n",
              "// This is roughly an async generator (not supported in the browser yet),\n",
              "// where there are multiple asynchronous steps and the Python side is going\n",
              "// to poll for completion of each step.\n",
              "// This uses a Promise to block the python side on completion of each step,\n",
              "// then passes the result of the previous step as the input to the next step.\n",
              "function _uploadFilesContinue(outputId) {\n",
              "  const outputElement = document.getElementById(outputId);\n",
              "  const steps = outputElement.steps;\n",
              "\n",
              "  const next = steps.next(outputElement.lastPromiseValue);\n",
              "  return Promise.resolve(next.value.promise).then((value) => {\n",
              "    // Cache the last promise value to make it available to the next\n",
              "    // step of the generator.\n",
              "    outputElement.lastPromiseValue = value;\n",
              "    return next.value.response;\n",
              "  });\n",
              "}\n",
              "\n",
              "/**\n",
              " * Generator function which is called between each async step of the upload\n",
              " * process.\n",
              " * @param {string} inputId Element ID of the input file picker element.\n",
              " * @param {string} outputId Element ID of the output display.\n",
              " * @return {!Iterable<!Object>} Iterable of next steps.\n",
              " */\n",
              "function* uploadFilesStep(inputId, outputId) {\n",
              "  const inputElement = document.getElementById(inputId);\n",
              "  inputElement.disabled = false;\n",
              "\n",
              "  const outputElement = document.getElementById(outputId);\n",
              "  outputElement.innerHTML = '';\n",
              "\n",
              "  const pickedPromise = new Promise((resolve) => {\n",
              "    inputElement.addEventListener('change', (e) => {\n",
              "      resolve(e.target.files);\n",
              "    });\n",
              "  });\n",
              "\n",
              "  const cancel = document.createElement('button');\n",
              "  inputElement.parentElement.appendChild(cancel);\n",
              "  cancel.textContent = 'Cancel upload';\n",
              "  const cancelPromise = new Promise((resolve) => {\n",
              "    cancel.onclick = () => {\n",
              "      resolve(null);\n",
              "    };\n",
              "  });\n",
              "\n",
              "  // Wait for the user to pick the files.\n",
              "  const files = yield {\n",
              "    promise: Promise.race([pickedPromise, cancelPromise]),\n",
              "    response: {\n",
              "      action: 'starting',\n",
              "    }\n",
              "  };\n",
              "\n",
              "  cancel.remove();\n",
              "\n",
              "  // Disable the input element since further picks are not allowed.\n",
              "  inputElement.disabled = true;\n",
              "\n",
              "  if (!files) {\n",
              "    return {\n",
              "      response: {\n",
              "        action: 'complete',\n",
              "      }\n",
              "    };\n",
              "  }\n",
              "\n",
              "  for (const file of files) {\n",
              "    const li = document.createElement('li');\n",
              "    li.append(span(file.name, {fontWeight: 'bold'}));\n",
              "    li.append(span(\n",
              "        `(${file.type || 'n/a'}) - ${file.size} bytes, ` +\n",
              "        `last modified: ${\n",
              "            file.lastModifiedDate ? file.lastModifiedDate.toLocaleDateString() :\n",
              "                                    'n/a'} - `));\n",
              "    const percent = span('0% done');\n",
              "    li.appendChild(percent);\n",
              "\n",
              "    outputElement.appendChild(li);\n",
              "\n",
              "    const fileDataPromise = new Promise((resolve) => {\n",
              "      const reader = new FileReader();\n",
              "      reader.onload = (e) => {\n",
              "        resolve(e.target.result);\n",
              "      };\n",
              "      reader.readAsArrayBuffer(file);\n",
              "    });\n",
              "    // Wait for the data to be ready.\n",
              "    let fileData = yield {\n",
              "      promise: fileDataPromise,\n",
              "      response: {\n",
              "        action: 'continue',\n",
              "      }\n",
              "    };\n",
              "\n",
              "    // Use a chunked sending to avoid message size limits. See b/62115660.\n",
              "    let position = 0;\n",
              "    do {\n",
              "      const length = Math.min(fileData.byteLength - position, MAX_PAYLOAD_SIZE);\n",
              "      const chunk = new Uint8Array(fileData, position, length);\n",
              "      position += length;\n",
              "\n",
              "      const base64 = btoa(String.fromCharCode.apply(null, chunk));\n",
              "      yield {\n",
              "        response: {\n",
              "          action: 'append',\n",
              "          file: file.name,\n",
              "          data: base64,\n",
              "        },\n",
              "      };\n",
              "\n",
              "      let percentDone = fileData.byteLength === 0 ?\n",
              "          100 :\n",
              "          Math.round((position / fileData.byteLength) * 100);\n",
              "      percent.textContent = `${percentDone}% done`;\n",
              "\n",
              "    } while (position < fileData.byteLength);\n",
              "  }\n",
              "\n",
              "  // All done.\n",
              "  yield {\n",
              "    response: {\n",
              "      action: 'complete',\n",
              "    }\n",
              "  };\n",
              "}\n",
              "\n",
              "scope.google = scope.google || {};\n",
              "scope.google.colab = scope.google.colab || {};\n",
              "scope.google.colab._files = {\n",
              "  _uploadFiles,\n",
              "  _uploadFilesContinue,\n",
              "};\n",
              "})(self);\n",
              "</script> "
            ]
          },
          "metadata": {}
        },
        {
          "output_type": "stream",
          "name": "stdout",
          "text": [
            "Saving incoming_alerts.csv to incoming_alerts (3).csv\n",
            "[⚠️] Unexpected file uploaded: incoming_alerts (3).csv\n"
          ]
        }
      ]
    },
    {
      "cell_type": "code",
      "source": [
        "  # 🧹 Validate and Save as alerts.csv\n",
        "  for filename in uploaded.keys():\n",
        "      print(f\"[✔] Uploaded file: {filename}\")\n",
        "      try:\n",
        "          df_large = pd.read_csv(io.BytesIO(uploaded[filename]))\n",
        "          required_cols = {\"timestamp\", \"src_ip\", \"dest_ip\", \"alert_type\", \"port\", \"severity\", \"label\"}\n",
        "          if not required_cols.issubset(df_large.columns):\n",
        "              missing = required_cols - set(df_large.columns)\n",
        "              raise ValueError(f\"Dataset is missing required columns: {missing}\")\n",
        "          df_large.to_csv(\"alerts.csv\", index=False)\n",
        "          print(\"[✔] Dataset validated and saved as alerts.csv\")\n",
        "      except Exception as e:\n",
        "          print(f\"[✗] Failed to process uploaded file: {e}\")"
      ],
      "metadata": {
        "id": "COWL_MZJoEST",
        "colab": {
          "base_uri": "https://localhost:8080/"
        },
        "outputId": "3fdcce8e-bf15-4a7f-e5b8-050744b5248b"
      },
      "execution_count": 397,
      "outputs": [
        {
          "output_type": "stream",
          "name": "stdout",
          "text": [
            "[✔] Uploaded file: incoming_alerts (3).csv\n",
            "[✗] Failed to process uploaded file: Dataset is missing required columns: {'label'}\n"
          ]
        }
      ]
    },
    {
      "cell_type": "code",
      "source": [
        "  # 🧠 STEP 3: Initialize variables and paths\n",
        "  RULES_PATH = \"rules.yaml\"\n",
        "  MODEL_PATH = \"models/alert_classifier.pkl\"\n",
        "  model, le_alert, le_sev = None, None, None"
      ],
      "metadata": {
        "id": "g8eIRNy7oEQS"
      },
      "execution_count": 419,
      "outputs": []
    },
    {
      "cell_type": "code",
      "source": [
        " # 📄 STEP 4: Create placeholder rules.yaml if not exists\n",
        "rules_content = \"\"\"\n",
        "ignore_ports:\n",
        "    - 22\n",
        "    - 53\n",
        "  \"\"\"\n",
        "if not os.path.exists(RULES_PATH):\n",
        "      with open(RULES_PATH, \"w\") as f:\n",
        "          f.write(rules_content)\n",
        "print(\"[✔] Created placeholder rules.yaml\")"
      ],
      "metadata": {
        "id": "3NzBr8jXoEIj",
        "colab": {
          "base_uri": "https://localhost:8080/"
        },
        "outputId": "df9ad9a4-d96a-4e73-a54f-dff4bb5dd42c"
      },
      "execution_count": 420,
      "outputs": [
        {
          "output_type": "stream",
          "name": "stdout",
          "text": [
            "[✔] Created placeholder rules.yaml\n"
          ]
        }
      ]
    },
    {
      "cell_type": "code",
      "source": [
        " # 📚 STEP 5: Load rules\n",
        "with open(RULES_PATH, \"r\") as f:\n",
        "      RULES = yaml.safe_load(f)\n",
        "print(\"[✔] Rules loaded\")"
      ],
      "metadata": {
        "id": "TmYmRLSfoEFA",
        "colab": {
          "base_uri": "https://localhost:8080/"
        },
        "outputId": "9f72d600-db3a-4ff8-fe33-5b72fea93cbf"
      },
      "execution_count": 400,
      "outputs": [
        {
          "output_type": "stream",
          "name": "stdout",
          "text": [
            "[✔] Rules loaded\n"
          ]
        }
      ]
    },
    {
      "cell_type": "code",
      "source": [
        "# 🗃️ STEP 6: Create SQLite DB\n",
        "if not os.path.exists('data'):\n",
        "      os.makedirs('data')\n",
        "\n",
        "conn = sqlite3.connect(\"data/feedback.db\", check_same_thread=False)\n",
        "c = conn.cursor()\n",
        "c.execute(\"\"\"\n",
        "      CREATE TABLE IF NOT EXISTS alerts (\n",
        "          id INTEGER PRIMARY KEY AUTOINCREMENT,\n",
        "          timestamp TEXT,\n",
        "          src_ip TEXT,\n",
        "          dest_ip TEXT,\n",
        "          alert_type TEXT,\n",
        "          port INTEGER,\n",
        "          severity TEXT,\n",
        "          prediction INTEGER,\n",
        "          final_result TEXT,\n",
        "          analyst_feedback TEXT\n",
        "      )\n",
        "  \"\"\")\n",
        "conn.commit()\n",
        "print(\"[✔] SQLite DB initialized\")"
      ],
      "metadata": {
        "id": "sh86vLyQoSkZ",
        "colab": {
          "base_uri": "https://localhost:8080/"
        },
        "outputId": "949ba565-dc64-405e-98f7-600e0cac17cd"
      },
      "execution_count": 401,
      "outputs": [
        {
          "output_type": "stream",
          "name": "stdout",
          "text": [
            "[✔] SQLite DB initialized\n"
          ]
        }
      ]
    },
    {
      "cell_type": "code",
      "source": [
        "# 🔄 STEP 7: Preprocessing\n",
        "def preprocess(df, le_alert=None, le_sev=None, fit=True):\n",
        "      if fit:\n",
        "          le_alert = LabelEncoder()\n",
        "          le_sev = LabelEncoder()\n",
        "          df['alert_type'] = le_alert.fit_transform(df['alert_type'])\n",
        "          df['severity'] = le_sev.fit_transform(df['severity'])\n",
        "      else:\n",
        "          df['alert_type'] = le_alert.transform(df['alert_type'])\n",
        "          df['severity'] = le_sev.transform(df['severity'])\n",
        "      df['src_ip'] = df['src_ip'].apply(lambda ip: int(ip.split('.')[-1]))\n",
        "      df['port'] = df['port'].astype(int)\n",
        "      return df.drop(columns=[\"timestamp\", \"dest_ip\"]), le_alert, le_sev\n"
      ],
      "metadata": {
        "id": "yYN0NuXCoSg9"
      },
      "execution_count": 402,
      "outputs": []
    },
    {
      "cell_type": "code",
      "source": [
        "def train_model():\n",
        "    global model, le_alert, le_sev\n",
        "    from sklearn.metrics import accuracy_score, classification_report\n",
        "\n",
        "    # Load and preprocess data\n",
        "    df = pd.read_csv(\"alerts.csv\")\n",
        "    df_proc, le_alert, le_sev = preprocess(df.copy(), fit=True)\n",
        "    X = df_proc.drop(columns=[\"label\"])\n",
        "    y = df_proc[\"label\"]\n",
        "\n",
        "    # Split and train\n",
        "    X_train, X_test, y_train, y_test = train_test_split(X, y, test_size=0.25, random_state=42)\n",
        "    model = RandomForestClassifier(n_estimators=100, random_state=42)\n",
        "    model.fit(X_train, y_train)\n",
        "\n",
        "    # Evaluate and log\n",
        "    y_pred = model.predict(X_test)\n",
        "    accuracy = accuracy_score(y_test, y_pred)\n",
        "    with open(\"model_metrics_log.csv\", \"a\") as log:\n",
        "        log.write(f\"{datetime.now()},{accuracy:.3f}\\n\")\n",
        "    print(f\"[📊] Logged model accuracy: {accuracy:.3f}\")\n",
        "\n",
        "    # Save model\n",
        "    if not os.path.exists(\"models\"):\n",
        "        os.makedirs(\"models\")\n",
        "    joblib.dump((model, le_alert, le_sev), MODEL_PATH)\n",
        "    print(\"[✔] Model trained and saved\")\n",
        "\n",
        "    # Save versioned backup\n",
        "    versioned_path = f\"models/alert_classifier_{datetime.now().strftime('%Y%m%d_%H%M%S')}.pkl\"\n",
        "    joblib.dump((model, le_alert, le_sev), versioned_path)\n",
        "    print(f\"[🗃️] Model version saved as {versioned_path}\")\n"
      ],
      "metadata": {
        "id": "9WEcYPUWoSfA"
      },
      "execution_count": 403,
      "outputs": []
    },
    {
      "cell_type": "code",
      "source": [
        "def explain_predictions():\n",
        "    import shap\n",
        "    import matplotlib.pyplot as plt\n",
        "    from google.colab import files\n",
        "    from datetime import datetime\n",
        "\n",
        "    # Load and preprocess alerts.csv\n",
        "    df = pd.read_csv(\"alerts.csv\")\n",
        "    df_proc, le_alert, le_sev = preprocess(df.copy(), fit=True)\n",
        "    X = df_proc.drop(columns=[\"label\"])\n",
        "\n",
        "    global model\n",
        "    if model is None:\n",
        "        model, le_alert, le_sev = joblib.load(MODEL_PATH)\n",
        "\n",
        "    # Build explainer\n",
        "    explainer = shap.TreeExplainer(model)\n",
        "    shap_values = explainer.shap_values(X)\n",
        "\n",
        "    # Handle binary classification output\n",
        "    shap_vals_to_use = shap_values[1] if isinstance(shap_values, list) and len(shap_values) == 2 else shap_values\n",
        "\n",
        "    # SHAP summary plot only\n",
        "    shap.summary_plot(shap_vals_to_use, X, show=False)\n",
        "    timestamp = datetime.now().strftime(\"%Y%m%d-%H%M%S\")\n",
        "    plt.title(\"SHAP Summary for Model Predictions\")\n",
        "    plt.tight_layout()\n",
        "    filename = f\"shap_summary_{timestamp}.png\"\n",
        "    plt.savefig(filename)\n",
        "    files.download(filename)\n",
        "    print(f\"[✔] SHAP summary saved and downloaded as {filename}\")\n"
      ],
      "metadata": {
        "id": "sIOhx2kNyiZk"
      },
      "execution_count": 404,
      "outputs": []
    },
    {
      "cell_type": "code",
      "source": [
        "explain_predictions()"
      ],
      "metadata": {
        "id": "3ti-rM6pyk33",
        "colab": {
          "base_uri": "https://localhost:8080/",
          "height": 35
        },
        "outputId": "b4df1992-8d32-49f8-fe93-8ff39b4e0112"
      },
      "execution_count": 405,
      "outputs": [
        {
          "output_type": "display_data",
          "data": {
            "text/plain": [
              "<IPython.core.display.Javascript object>"
            ],
            "application/javascript": [
              "\n",
              "    async function download(id, filename, size) {\n",
              "      if (!google.colab.kernel.accessAllowed) {\n",
              "        return;\n",
              "      }\n",
              "      const div = document.createElement('div');\n",
              "      const label = document.createElement('label');\n",
              "      label.textContent = `Downloading \"${filename}\": `;\n",
              "      div.appendChild(label);\n",
              "      const progress = document.createElement('progress');\n",
              "      progress.max = size;\n",
              "      div.appendChild(progress);\n",
              "      document.body.appendChild(div);\n",
              "\n",
              "      const buffers = [];\n",
              "      let downloaded = 0;\n",
              "\n",
              "      const channel = await google.colab.kernel.comms.open(id);\n",
              "      // Send a message to notify the kernel that we're ready.\n",
              "      channel.send({})\n",
              "\n",
              "      for await (const message of channel.messages) {\n",
              "        // Send a message to notify the kernel that we're ready.\n",
              "        channel.send({})\n",
              "        if (message.buffers) {\n",
              "          for (const buffer of message.buffers) {\n",
              "            buffers.push(buffer);\n",
              "            downloaded += buffer.byteLength;\n",
              "            progress.value = downloaded;\n",
              "          }\n",
              "        }\n",
              "      }\n",
              "      const blob = new Blob(buffers, {type: 'application/binary'});\n",
              "      const a = document.createElement('a');\n",
              "      a.href = window.URL.createObjectURL(blob);\n",
              "      a.download = filename;\n",
              "      div.appendChild(a);\n",
              "      a.click();\n",
              "      div.remove();\n",
              "    }\n",
              "  "
            ]
          },
          "metadata": {}
        },
        {
          "output_type": "display_data",
          "data": {
            "text/plain": [
              "<IPython.core.display.Javascript object>"
            ],
            "application/javascript": [
              "download(\"download_cb50f173-7e63-4d43-9262-00969bc254eb\", \"shap_summary_20250726-105154.png\", 28207)"
            ]
          },
          "metadata": {}
        },
        {
          "output_type": "stream",
          "name": "stdout",
          "text": [
            "[✔] SHAP summary saved and downloaded as shap_summary_20250726-105154.png\n"
          ]
        }
      ]
    },
    {
      "cell_type": "code",
      "source": [
        "from sklearn.metrics import classification_report, confusion_matrix\n",
        "\n",
        "# 📊 STEP 12: Evaluate model performance\n",
        "def evaluate_model():\n",
        "    df = pd.read_csv(\"alerts.csv\")\n",
        "    df_proc, le_alert, le_sev = preprocess(df.copy(), fit=True)\n",
        "    X = df_proc.drop(columns=[\"label\"])\n",
        "    y = df_proc[\"label\"]\n",
        "    y_pred = model.predict(X)\n",
        "\n",
        "    print(\"\\n📊 Classification Report:\\n\", classification_report(y, y_pred))\n",
        "    cm = confusion_matrix(y, y_pred)\n",
        "\n",
        "    sns.heatmap(cm, annot=True, fmt=\"d\", cmap=\"Blues\")\n",
        "    plt.title(\"Confusion Matrix\")\n",
        "    plt.xlabel(\"Predicted\")\n",
        "    plt.ylabel(\"Actual\")\n",
        "    plt.show()\n"
      ],
      "metadata": {
        "id": "56HC-exArwEi"
      },
      "execution_count": 406,
      "outputs": []
    },
    {
      "cell_type": "code",
      "source": [
        "train_model()\n",
        "evaluate_model()\n",
        "explain_predictions()"
      ],
      "metadata": {
        "id": "XY0SelRErys5",
        "colab": {
          "base_uri": "https://localhost:8080/",
          "height": 1000
        },
        "outputId": "a03ec549-67aa-4fee-9233-e980bf14c6b4"
      },
      "execution_count": 407,
      "outputs": [
        {
          "output_type": "stream",
          "name": "stdout",
          "text": [
            "[📊] Logged model accuracy: 0.400\n",
            "[✔] Model trained and saved\n",
            "[🗃️] Model version saved as models/alert_classifier_20250726_105154.pkl\n",
            "\n",
            "📊 Classification Report:\n",
            "               precision    recall  f1-score   support\n",
            "\n",
            "           0       0.82      0.90      0.86        50\n",
            "           1       0.89      0.80      0.84        50\n",
            "\n",
            "    accuracy                           0.85       100\n",
            "   macro avg       0.85      0.85      0.85       100\n",
            "weighted avg       0.85      0.85      0.85       100\n",
            "\n"
          ]
        },
        {
          "output_type": "display_data",
          "data": {
            "text/plain": [
              "<Figure size 1150x660 with 2 Axes>"
            ],
            "image/png": "[encoded data removed]"
          },
          "metadata": {}
        },
        {
          "output_type": "stream",
          "name": "stderr",
          "text": [
            "/usr/local/lib/python3.11/dist-packages/IPython/core/pylabtools.py:151: UserWarning: Glyph 10060 (\\N{CROSS MARK}) missing from font(s) DejaVu Sans.\n",
            "  fig.canvas.print_figure(bytes_io, **kw)\n"
          ]
        },
        {
          "output_type": "display_data",
          "data": {
            "text/plain": [
              "<Figure size 600x400 with 1 Axes>"
            ],
            "image/png": "[encoded data removed]"
          },
          "metadata": {}
        },
        {
          "output_type": "display_data",
          "data": {
            "text/plain": [
              "<Figure size 800x310 with 3 Axes>"
            ],
            "image/png": "[encoded data removed]"
          },
          "metadata": {}
        },
        {
          "output_type": "display_data",
          "data": {
            "text/plain": [
              "<IPython.core.display.Javascript object>"
            ],
            "application/javascript": [
              "\n",
              "    async function download(id, filename, size) {\n",
              "      if (!google.colab.kernel.accessAllowed) {\n",
              "        return;\n",
              "      }\n",
              "      const div = document.createElement('div');\n",
              "      const label = document.createElement('label');\n",
              "      label.textContent = `Downloading \"${filename}\": `;\n",
              "      div.appendChild(label);\n",
              "      const progress = document.createElement('progress');\n",
              "      progress.max = size;\n",
              "      div.appendChild(progress);\n",
              "      document.body.appendChild(div);\n",
              "\n",
              "      const buffers = [];\n",
              "      let downloaded = 0;\n",
              "\n",
              "      const channel = await google.colab.kernel.comms.open(id);\n",
              "      // Send a message to notify the kernel that we're ready.\n",
              "      channel.send({})\n",
              "\n",
              "      for await (const message of channel.messages) {\n",
              "        // Send a message to notify the kernel that we're ready.\n",
              "        channel.send({})\n",
              "        if (message.buffers) {\n",
              "          for (const buffer of message.buffers) {\n",
              "            buffers.push(buffer);\n",
              "            downloaded += buffer.byteLength;\n",
              "            progress.value = downloaded;\n",
              "          }\n",
              "        }\n",
              "      }\n",
              "      const blob = new Blob(buffers, {type: 'application/binary'});\n",
              "      const a = document.createElement('a');\n",
              "      a.href = window.URL.createObjectURL(blob);\n",
              "      a.download = filename;\n",
              "      div.appendChild(a);\n",
              "      a.click();\n",
              "      div.remove();\n",
              "    }\n",
              "  "
            ]
          },
          "metadata": {}
        },
        {
          "output_type": "display_data",
          "data": {
            "text/plain": [
              "<IPython.core.display.Javascript object>"
            ],
            "application/javascript": [
              "download(\"download_f181a301-10d2-4519-b61d-a8c796c2a161\", \"shap_summary_20250726-105155.png\", 37093)"
            ]
          },
          "metadata": {}
        },
        {
          "output_type": "stream",
          "name": "stdout",
          "text": [
            "[✔] SHAP summary saved and downloaded as shap_summary_20250726-105155.png\n"
          ]
        }
      ]
    },
    {
      "cell_type": "code",
      "source": [
        "# 🤖 STEP 9: Classify new alerts\n",
        "def classify_alerts():\n",
        "    import os\n",
        "    import pandas as pd\n",
        "    import matplotlib.pyplot as plt\n",
        "    import shap\n",
        "    import joblib\n",
        "    from datetime import datetime\n",
        "    from google.colab import files\n",
        "\n",
        "    global model, le_alert, le_sev, RULES\n",
        "\n",
        "    MODEL_PATH = \"alert_classifier.pkl\"\n",
        "\n",
        "    if not os.path.exists(MODEL_PATH):\n",
        "        print(\"[✗] Model not found. Run train_model() first.\")\n",
        "        return\n",
        "\n",
        "    # Load model and label encoders\n",
        "    model, le_alert, le_sev = joblib.load(MODEL_PATH)\n",
        "\n",
        "    # 🔎 Simulated new alert data\n",
        "    new_data = {\n",
        "        \"timestamp\": [\"2025-07-26 11:00\", \"2025-07-26 11:01\"],\n",
        "        \"src_ip\": [\"192.168.1.10\", \"10.0.0.2\"],\n",
        "        \"dest_ip\": [\"10.0.0.5\", \"192.168.1.1\"],\n",
        "        \"alert_type\": [\"Port Scan\", \"Failed Login\"],\n",
        "        \"port\": [22, 443],\n",
        "        \"severity\": [\"High\", \"Medium\"]\n",
        "    }\n",
        "    df_new = pd.DataFrame(new_data)\n",
        "\n",
        "    # 🧼 Preprocess new data\n",
        "    df_input_processed, _, _ = preprocess(df_new.copy(), le_alert, le_sev, fit=False)\n",
        "\n",
        "    # 🔍 Make predictions\n",
        "    prediction = model.predict(df_input_processed)\n",
        "    probs = model.predict_proba(df_input_processed)\n",
        "\n",
        "    # 🧾 Add prediction results\n",
        "    df_new[\"prediction\"] = prediction\n",
        "    df_new[\"confidence\"] = probs[:, 1]\n",
        "    df_new[\"result\"] = df_new[\"prediction\"].apply(lambda x: \"True Positive ✅\" if x == 1 else \"False Positive ❌\")\n",
        "\n",
        "    # 📜 Rule-based override\n",
        "    def rule_override(row):\n",
        "        if RULES and \"ignore_ports\" in RULES and row[\"src_ip\"].startswith(\"192.168\") and row[\"port\"] in RULES[\"ignore_ports\"]:\n",
        "            return \"False Positive ❌ (Rule)\"\n",
        "        return row[\"result\"]\n",
        "\n",
        "    # 🎯 Apply final decision logic\n",
        "    df_new[\"final_result\"] = df_new.apply(lambda row: (\n",
        "        \"False Positive ❌ (Low Confidence)\" if row[\"confidence\"] < 0.7\n",
        "        else rule_override(row)\n",
        "    ), axis=1)\n",
        "\n",
        "    # 💾 Save to CSV\n",
        "    df_new.to_csv(\"classified_alerts.csv\", index=False)\n",
        "\n",
        "    # 📊 SHAP Explanation (only for 1st alert)\n",
        "    try:\n",
        "        explainer = shap.Explainer(model, df_input_processed)\n",
        "        shap_values = explainer(df_input_processed)\n",
        "        shap.plots.waterfall(shap_values[0], show=False)\n",
        "        plt.title(\"SHAP Explanation for First Real-Time Alert\")\n",
        "        plt.tight_layout()\n",
        "        plt.savefig(\"shap_realtime_explanation.png\")\n",
        "        files.download(\"shap_realtime_explanation.png\")\n",
        "        print(\"[✔] SHAP explanation for real-time alert saved\")\n",
        "    except Exception as e:\n",
        "        print(f\"[!] SHAP explanation error: {e}\")\n",
        "\n",
        "    # 📋 Display classification summary\n",
        "    print(\"\\n🔍 Classification Results:\")\n",
        "    print(df_new[[\"timestamp\", \"src_ip\", \"alert_type\", \"severity\", \"final_result\", \"confidence\"]])\n",
        "    print(\"[✔] Saved to classified_alerts.csv\")\n",
        "\n",
        "    # 📝 Append audit logs\n",
        "    with open(\"audit_log.txt\", \"a\") as log:\n",
        "        for _, row in df_new.iterrows():\n",
        "            log.write(f\"[{datetime.now()}] Alert: {row['alert_type']} | IP: {row['src_ip']} | \"\n",
        "                      f\"Prediction: {row['final_result']} | Confidence: {row['confidence']:.2f}\\n\")\n"
      ],
      "metadata": {
        "id": "1X2gvvGooScy"
      },
      "execution_count": 408,
      "outputs": []
    },
    {
      "cell_type": "code",
      "source": [
        "classify_alerts()"
      ],
      "metadata": {
        "id": "G5JN4DzzpwoL",
        "colab": {
          "base_uri": "https://localhost:8080/"
        },
        "outputId": "99722be7-58b1-4bc1-c911-92e10fc870a4"
      },
      "execution_count": 409,
      "outputs": [
        {
          "output_type": "stream",
          "name": "stdout",
          "text": [
            "[!] SHAP explanation error: The waterfall plot can currently only plot a single explanation, but a matrix of explanations (shape (4, 2)) was passed! Perhaps try `shap.plots.waterfall(shap_values[0])` or for multi-output models, try `shap.plots.waterfall(shap_values[0, 0])`.\n",
            "\n",
            "🔍 Classification Results:\n",
            "          timestamp        src_ip    alert_type severity  \\\n",
            "0  2025-07-26 11:00  192.168.1.10     Port Scan     High   \n",
            "1  2025-07-26 11:01      10.0.0.2  Failed Login   Medium   \n",
            "\n",
            "                        final_result  confidence  \n",
            "0  False Positive ❌ (Low Confidence)        0.31  \n",
            "1  False Positive ❌ (Low Confidence)        0.67  \n",
            "[✔] Saved to classified_alerts.csv\n"
          ]
        }
      ]
    },
    {
      "cell_type": "code",
      "source": [
        " # 🧑‍💼 STEP 10: Simulate feedback\n",
        "def feedback_loop():\n",
        "      if not os.path.exists(\"classified_alerts.csv\"):\n",
        "          print(\"[✗] classified_alerts.csv not found.\")\n",
        "          return\n",
        "      df = pd.read_csv(\"classified_alerts.csv\")\n",
        "      df[\"analyst_feedback\"] = df[\"final_result\"].apply(lambda x: \"Confirmed\" if \"True Positive\" in x else \"Incorrect\")\n",
        "      df.to_csv(\"classified_alerts_with_feedback.csv\", index=False)\n",
        "      print(\"[✔] Feedback saved to classified_alerts_with_feedback.csv\")"
      ],
      "metadata": {
        "id": "J0bxTraYoSax"
      },
      "execution_count": 410,
      "outputs": []
    },
    {
      "cell_type": "code",
      "source": [
        "# 🔁 STEP 11: Retrain from Analyst Feedback\n",
        "def retrain_from_feedback():\n",
        "    global model, le_alert, le_sev\n",
        "    if not os.path.exists(\"classified_alerts_with_feedback.csv\"):\n",
        "        print(\"[✗] Feedback file not found.\")\n",
        "        return\n",
        "    if not os.path.exists(MODEL_PATH):\n",
        "          print(\"[✗] Model not found. Run train_model() first.\")\n",
        "          return\n",
        "\n",
        "    model, le_alert, le_sev = joblib.load(MODEL_PATH)\n",
        "\n",
        "    df_feedback = pd.read_csv(\"classified_alerts_with_feedback.csv\")\n",
        "\n",
        "    # Select and preprocess only the necessary features from feedback data\n",
        "    df_retrain = df_feedback[[\"src_ip\", \"alert_type\", \"port\", \"severity\"]].copy()\n",
        "\n",
        "    # Apply transformations using loaded encoders and logic\n",
        "    try:\n",
        "        df_retrain['alert_type'] = le_alert.transform(df_retrain['alert_type'])\n",
        "        df_retrain['severity'] = le_sev.transform(df_retrain['severity'])\n",
        "    except ValueError as e:\n",
        "        print(f\"[✗] Error transforming categorical features: {e}. Ensure all values in feedback data exist in the original training data.\")\n",
        "        return\n",
        "\n",
        "    df_retrain['src_ip'] = df_retrain['src_ip'].apply(lambda ip: int(ip.split('.')[-1]))\n",
        "    df_retrain['port'] = df_retrain['port'].astype(int)\n",
        "\n",
        "    X_new = df_retrain\n",
        "    y_new = df_feedback[\"analyst_feedback\"].apply(lambda x: 1 if x == \"Confirmed\" else 0)\n",
        "\n",
        "    # Ensure X_new and y_new have the same number of samples after any potential filtering\n",
        "    if X_new.shape[0] != y_new.shape[0]:\n",
        "        print(f\"[✗] Mismatch between features and labels after preprocessing: X_new has {X_new.shape[0]} samples, y_new has {y_new.shape[0]} samples.\")\n",
        "        return\n",
        "\n",
        "    if X_new.shape[0] == 0:\n",
        "        print(\"[✗] No valid samples left for retraining after preprocessing.\")\n",
        "        return\n",
        "\n",
        "\n",
        "    print(f\"Shape of X_new before fitting: {X_new.shape}\")\n",
        "    print(f\"Shape of y_new before fitting: {y_new.shape}\")\n",
        "\n",
        "    model.fit(X_new, y_new)\n",
        "    joblib.dump((model, le_alert, le_sev), MODEL_PATH)\n",
        "    print(\"[🔁] Model updated with analyst feedback\")"
      ],
      "metadata": {
        "id": "hN2z9UVwrmo0"
      },
      "execution_count": 411,
      "outputs": []
    },
    {
      "cell_type": "code",
      "source": [
        "feedback_loop()\n",
        "retrain_from_feedback()"
      ],
      "metadata": {
        "id": "q6DQ2pbFrqvq",
        "colab": {
          "base_uri": "https://localhost:8080/"
        },
        "outputId": "7b88de97-b3f5-4dda-8225-85f4ef605f1f"
      },
      "execution_count": 412,
      "outputs": [
        {
          "output_type": "stream",
          "name": "stdout",
          "text": [
            "[✔] Feedback saved to classified_alerts_with_feedback.csv\n",
            "Shape of X_new before fitting: (2, 4)\n",
            "Shape of y_new before fitting: (2,)\n",
            "[🔁] Model updated with analyst feedback\n"
          ]
        }
      ]
    },
    {
      "cell_type": "code",
      "source": [
        "import time\n",
        "from datetime import datetime\n",
        "import shap\n",
        "import matplotlib.pyplot as plt\n",
        "\n",
        "# ⏱️ STEP X: Real-time alert ingestion simulator\n",
        "def simulate_real_time_ingestion(log_path=\"incoming_alerts.csv\", poll_interval=5):\n",
        "    print(\"[🚨] Starting real-time alert ingestion... (Press Stop to end)\")\n",
        "\n",
        "    seen_rows = 0\n",
        "    global model, le_alert, le_sev\n",
        "    # Ensure model and encoders are loaded\n",
        "    if model is None or le_alert is None or le_sev is None:\n",
        "        if os.path.exists(MODEL_PATH):\n",
        "            model, le_alert, le_sev = joblib.load(MODEL_PATH)\n",
        "            print(\"[✔] Model and encoders loaded from file.\")\n",
        "        else:\n",
        "            print(\"[✗] Model not found. Run train_model() first.\")\n",
        "            return\n",
        "\n",
        "\n",
        "    explainer = shap.Explainer(model)\n",
        "\n",
        "    while True:\n",
        "        try:\n",
        "            df_log = pd.read_csv(log_path)\n",
        "            if seen_rows >= len(df_log):\n",
        "                time.sleep(poll_interval)\n",
        "                continue\n",
        "\n",
        "            new_alerts = df_log.iloc[seen_rows:]\n",
        "            seen_rows = len(df_log)\n",
        "\n",
        "            for idx, row in new_alerts.iterrows():\n",
        "                df_new = pd.DataFrame([row])\n",
        "                df_input_processed, _, _ = preprocess(df_new.copy(), le_alert, le_sev, fit=False)\n",
        "                prediction = model.predict(df_input_processed)[0]\n",
        "                prob = model.predict_proba(df_input_processed)[0][1]\n",
        "\n",
        "                result = \"True Positive ✅\" if prediction == 1 else \"False Positive ❌\"\n",
        "                if RULES and \"ignore_ports\" in RULES and row[\"port\"] in RULES[\"ignore_ports\"]: # Added RULES check\n",
        "                    result = \"False Positive ❌ (Rule)\"\n",
        "\n",
        "                final_result = result if prob > 0.7 else \"False Positive ❌ (Low Confidence)\"\n",
        "                timestamp = datetime.now().strftime(\"%Y-%m-%d %H:%M:%S\")\n",
        "\n",
        "                print(f\"[{timestamp}] Alert from {row['src_ip']} classified as → {final_result} (conf: {prob:.2f})\")\n",
        "\n",
        "                # Save audit log\n",
        "                with open(\"realtime_audit_log.txt\", \"a\") as f:\n",
        "                    f.write(f\"{timestamp},{row['src_ip']},{row['alert_type']},{row['port']},{final_result},{prob:.2f}\\n\")\n",
        "\n",
        "                # SHAP explanation (optional)\n",
        "                # explainer = shap.Explainer(model, df_input_processed) # Re-initializing explainer inside loop is inefficient\n",
        "                shap_val = explainer(df_input_processed)\n",
        "\n",
        "                # Handle multi-output from explainer if necessary (for binary classification, shap_values will be a list of two arrays)\n",
        "                # Select SHAP values for the positive class (index 1) for the current alert (index 0 since we process one alert at a time)\n",
        "                shap_values_to_plot = shap_val[0] if isinstance(shap_val, list) and len(shap_val) > 1 else shap_val\n",
        "\n",
        "\n",
        "                shap.plots.waterfall(shap_values_to_plot, show=False)\n",
        "                plt.title(f\"SHAP - {row['alert_type']}\")\n",
        "                fname = f\"shap_{row['alert_type'].replace(' ', '_')}_{timestamp.replace(':', '-')}.png\"\n",
        "                plt.tight_layout()\n",
        "                plt.savefig(fname)\n",
        "                print(f\"[📊] SHAP explanation saved: {fname}\")\n",
        "\n",
        "        except KeyboardInterrupt:\n",
        "            print(\"\\n[🛑] Real-time simulation stopped.\")\n",
        "            break\n",
        "        except Exception as e:\n",
        "            print(f\"[⚠️] Error: {e}\")\n",
        "            # If preprocess fails due to unseen label, try retraining\n",
        "            if \"unseen label\" in str(e):\n",
        "                print(\"[⚠️] Unseen label encountered. Attempting to retrain model with new data.\")\n",
        "                try:\n",
        "                    # Assume the incoming alert is a new training sample.\n",
        "                    # This is a simplified approach for demonstration.\n",
        "                    # In a real scenario, you might need a more robust feedback mechanism.\n",
        "                    df_log_with_label = df_log.copy()\n",
        "                    # Assign a temporary label (e.g., 0) to the new alert for retraining purposes\n",
        "                    # A real system would require analyst feedback to assign the correct label\n",
        "                    df_log_with_label['label'] = 0 # Assign a default label for retraining\n",
        "                    df_log_with_label.to_csv(\"alerts.csv\", index=False) # Overwrite alerts.csv with new data\n",
        "                    train_model() # Retrain the model\n",
        "                    model, le_alert, le_sev = joblib.load(MODEL_PATH) # Reload the retrained model and encoders\n",
        "                    explainer = shap.Explainer(model) # Re-initialize the explainer\n",
        "                    print(\"[✔] Model retrained and reloaded. Resuming simulation.\")\n",
        "                    seen_rows = 0 # Restart processing from the beginning of the log file\n",
        "                    continue # Continue to the next iteration of the while loop\n",
        "                except Exception as retraining_e:\n",
        "                    print(f\"[✗] Retraining failed: {retraining_e}\")\n",
        "                    print(\"[🛑] Stopping simulation due to unrecoverable error.\")\n",
        "                    break\n",
        "\n",
        "            time.sleep(poll_interval)"
      ],
      "metadata": {
        "id": "As78J_Vi51iZ"
      },
      "execution_count": 413,
      "outputs": []
    },
    {
      "cell_type": "code",
      "source": [
        "simulate_real_time_ingestion()"
      ],
      "metadata": {
        "colab": {
          "base_uri": "https://localhost:8080/"
        },
        "id": "R1TCUMji57uv",
        "outputId": "1a7f01c0-68e5-4ff3-da61-61084abd18a8"
      },
      "execution_count": 414,
      "outputs": [
        {
          "output_type": "stream",
          "name": "stdout",
          "text": [
            "[🚨] Starting real-time alert ingestion... (Press Stop to end)\n",
            "[⚠️] Error: index 1 is out of bounds for axis 0 with size 1\n",
            "\n",
            "[🛑] Real-time simulation stopped.\n"
          ]
        }
      ]
    },
    {
      "cell_type": "code",
      "source": [
        "# 📊 Visualize\n",
        "def visualize_feedback():\n",
        "    df = pd.read_csv(\"classified_alerts_with_feedback.csv\")\n",
        "    plt.figure(figsize=(6,4))\n",
        "    sns.countplot(data=df, x=\"final_result\")\n",
        "    plt.title(\"Final Alert Results\")\n",
        "    plt.xticks(rotation=30)\n",
        "    plt.tight_layout()\n",
        "    plt.savefig(\"final_results.png\")\n",
        "    files.download(\"final_results.png\")\n",
        "\n",
        "    plt.figure(figsize=(6,4))\n",
        "    sns.countplot(data=df, x=\"analyst_feedback\")\n",
        "    plt.title(\"Analyst Feedback\")\n",
        "    plt.tight_layout()\n",
        "    plt.savefig(\"feedback_chart.png\")\n",
        "    files.download(\"feedback_chart.png\")\n",
        "    print(\"[✔] Charts saved and ready for download\")"
      ],
      "metadata": {
        "id": "DVUKMySEoSYc"
      },
      "execution_count": 415,
      "outputs": []
    },
    {
      "cell_type": "code",
      "source": [
        "visualize_feedback()"
      ],
      "metadata": {
        "id": "2skw_HJOpoNv",
        "colab": {
          "base_uri": "https://localhost:8080/",
          "height": 108
        },
        "outputId": "f802ef90-34fa-478e-a85f-70524d87cc2b"
      },
      "execution_count": 416,
      "outputs": [
        {
          "output_type": "stream",
          "name": "stderr",
          "text": [
            "/tmp/ipython-input-415-4245629906.py:8: UserWarning: Glyph 10060 (\\N{CROSS MARK}) missing from font(s) DejaVu Sans.\n",
            "  plt.tight_layout()\n",
            "/tmp/ipython-input-415-4245629906.py:9: UserWarning: Glyph 10060 (\\N{CROSS MARK}) missing from font(s) DejaVu Sans.\n",
            "  plt.savefig(\"final_results.png\")\n"
          ]
        },
        {
          "output_type": "display_data",
          "data": {
            "text/plain": [
              "<IPython.core.display.Javascript object>"
            ],
            "application/javascript": [
              "\n",
              "    async function download(id, filename, size) {\n",
              "      if (!google.colab.kernel.accessAllowed) {\n",
              "        return;\n",
              "      }\n",
              "      const div = document.createElement('div');\n",
              "      const label = document.createElement('label');\n",
              "      label.textContent = `Downloading \"${filename}\": `;\n",
              "      div.appendChild(label);\n",
              "      const progress = document.createElement('progress');\n",
              "      progress.max = size;\n",
              "      div.appendChild(progress);\n",
              "      document.body.appendChild(div);\n",
              "\n",
              "      const buffers = [];\n",
              "      let downloaded = 0;\n",
              "\n",
              "      const channel = await google.colab.kernel.comms.open(id);\n",
              "      // Send a message to notify the kernel that we're ready.\n",
              "      channel.send({})\n",
              "\n",
              "      for await (const message of channel.messages) {\n",
              "        // Send a message to notify the kernel that we're ready.\n",
              "        channel.send({})\n",
              "        if (message.buffers) {\n",
              "          for (const buffer of message.buffers) {\n",
              "            buffers.push(buffer);\n",
              "            downloaded += buffer.byteLength;\n",
              "            progress.value = downloaded;\n",
              "          }\n",
              "        }\n",
              "      }\n",
              "      const blob = new Blob(buffers, {type: 'application/binary'});\n",
              "      const a = document.createElement('a');\n",
              "      a.href = window.URL.createObjectURL(blob);\n",
              "      a.download = filename;\n",
              "      div.appendChild(a);\n",
              "      a.click();\n",
              "      div.remove();\n",
              "    }\n",
              "  "
            ]
          },
          "metadata": {}
        },
        {
          "output_type": "display_data",
          "data": {
            "text/plain": [
              "<IPython.core.display.Javascript object>"
            ],
            "application/javascript": [
              "download(\"download_423c7eb7-4cbe-442d-bef6-b4890406f5cc\", \"final_results.png\", 18198)"
            ]
          },
          "metadata": {}
        },
        {
          "output_type": "display_data",
          "data": {
            "text/plain": [
              "<IPython.core.display.Javascript object>"
            ],
            "application/javascript": [
              "\n",
              "    async function download(id, filename, size) {\n",
              "      if (!google.colab.kernel.accessAllowed) {\n",
              "        return;\n",
              "      }\n",
              "      const div = document.createElement('div');\n",
              "      const label = document.createElement('label');\n",
              "      label.textContent = `Downloading \"${filename}\": `;\n",
              "      div.appendChild(label);\n",
              "      const progress = document.createElement('progress');\n",
              "      progress.max = size;\n",
              "      div.appendChild(progress);\n",
              "      document.body.appendChild(div);\n",
              "\n",
              "      const buffers = [];\n",
              "      let downloaded = 0;\n",
              "\n",
              "      const channel = await google.colab.kernel.comms.open(id);\n",
              "      // Send a message to notify the kernel that we're ready.\n",
              "      channel.send({})\n",
              "\n",
              "      for await (const message of channel.messages) {\n",
              "        // Send a message to notify the kernel that we're ready.\n",
              "        channel.send({})\n",
              "        if (message.buffers) {\n",
              "          for (const buffer of message.buffers) {\n",
              "            buffers.push(buffer);\n",
              "            downloaded += buffer.byteLength;\n",
              "            progress.value = downloaded;\n",
              "          }\n",
              "        }\n",
              "      }\n",
              "      const blob = new Blob(buffers, {type: 'application/binary'});\n",
              "      const a = document.createElement('a');\n",
              "      a.href = window.URL.createObjectURL(blob);\n",
              "      a.download = filename;\n",
              "      div.appendChild(a);\n",
              "      a.click();\n",
              "      div.remove();\n",
              "    }\n",
              "  "
            ]
          },
          "metadata": {}
        },
        {
          "output_type": "display_data",
          "data": {
            "text/plain": [
              "<IPython.core.display.Javascript object>"
            ],
            "application/javascript": [
              "download(\"download_05940635-cc91-41e8-a4e4-149fd05595d7\", \"feedback_chart.png\", 16264)"
            ]
          },
          "metadata": {}
        },
        {
          "output_type": "stream",
          "name": "stdout",
          "text": [
            "[✔] Charts saved and ready for download\n"
          ]
        }
      ]
    },
    {
      "cell_type": "code",
      "source": [
        " # 💾 STEP 11: Download outputs\n",
        "def download_outputs():\n",
        "      from google.colab import files\n",
        "      outputs = [\"alerts.csv\", \"classified_alerts.csv\", \"classified_alerts_with_feedback.csv\", RULES_PATH, \"audit_log.txt\"]\n",
        "      if os.path.exists(MODEL_PATH):\n",
        "          outputs.append(MODEL_PATH)\n",
        "      for f in outputs:\n",
        "          if os.path.exists(f):\n",
        "              try:\n",
        "                  files.download(f)\n",
        "                  print(f\"[⬇️] Downloaded: {f}\")\n",
        "              except Exception as e:\n",
        "                  print(f\"[✗] Error downloading {f}: {e}\")\n",
        "          else:\n",
        "              print(f\"[✗] Missing file: {f}\")\n"
      ],
      "metadata": {
        "id": "lDQgOF_roiHK"
      },
      "execution_count": 417,
      "outputs": []
    },
    {
      "cell_type": "code",
      "execution_count": 418,
      "metadata": {
        "id": "C1cZG52sisto",
        "colab": {
          "base_uri": "https://localhost:8080/",
          "height": 126
        },
        "outputId": "5bcaff5f-4781-4469-c6cf-7f7f0be1f5ed"
      },
      "outputs": [
        {
          "output_type": "display_data",
          "data": {
            "text/plain": [
              "<IPython.core.display.Javascript object>"
            ],
            "application/javascript": [
              "\n",
              "    async function download(id, filename, size) {\n",
              "      if (!google.colab.kernel.accessAllowed) {\n",
              "        return;\n",
              "      }\n",
              "      const div = document.createElement('div');\n",
              "      const label = document.createElement('label');\n",
              "      label.textContent = `Downloading \"${filename}\": `;\n",
              "      div.appendChild(label);\n",
              "      const progress = document.createElement('progress');\n",
              "      progress.max = size;\n",
              "      div.appendChild(progress);\n",
              "      document.body.appendChild(div);\n",
              "\n",
              "      const buffers = [];\n",
              "      let downloaded = 0;\n",
              "\n",
              "      const channel = await google.colab.kernel.comms.open(id);\n",
              "      // Send a message to notify the kernel that we're ready.\n",
              "      channel.send({})\n",
              "\n",
              "      for await (const message of channel.messages) {\n",
              "        // Send a message to notify the kernel that we're ready.\n",
              "        channel.send({})\n",
              "        if (message.buffers) {\n",
              "          for (const buffer of message.buffers) {\n",
              "            buffers.push(buffer);\n",
              "            downloaded += buffer.byteLength;\n",
              "            progress.value = downloaded;\n",
              "          }\n",
              "        }\n",
              "      }\n",
              "      const blob = new Blob(buffers, {type: 'application/binary'});\n",
              "      const a = document.createElement('a');\n",
              "      a.href = window.URL.createObjectURL(blob);\n",
              "      a.download = filename;\n",
              "      div.appendChild(a);\n",
              "      a.click();\n",
              "      div.remove();\n",
              "    }\n",
              "  "
            ]
          },
          "metadata": {}
        },
        {
          "output_type": "display_data",
          "data": {
            "text/plain": [
              "<IPython.core.display.Javascript object>"
            ],
            "application/javascript": [
              "download(\"download_b1be86a6-737e-48e3-bda1-106a8bcf2e41\", \"alerts.csv\", 6607)"
            ]
          },
          "metadata": {}
        },
        {
          "output_type": "stream",
          "name": "stdout",
          "text": [
            "[⬇️] Downloaded: alerts.csv\n"
          ]
        },
        {
          "output_type": "display_data",
          "data": {
            "text/plain": [
              "<IPython.core.display.Javascript object>"
            ],
            "application/javascript": [
              "\n",
              "    async function download(id, filename, size) {\n",
              "      if (!google.colab.kernel.accessAllowed) {\n",
              "        return;\n",
              "      }\n",
              "      const div = document.createElement('div');\n",
              "      const label = document.createElement('label');\n",
              "      label.textContent = `Downloading \"${filename}\": `;\n",
              "      div.appendChild(label);\n",
              "      const progress = document.createElement('progress');\n",
              "      progress.max = size;\n",
              "      div.appendChild(progress);\n",
              "      document.body.appendChild(div);\n",
              "\n",
              "      const buffers = [];\n",
              "      let downloaded = 0;\n",
              "\n",
              "      const channel = await google.colab.kernel.comms.open(id);\n",
              "      // Send a message to notify the kernel that we're ready.\n",
              "      channel.send({})\n",
              "\n",
              "      for await (const message of channel.messages) {\n",
              "        // Send a message to notify the kernel that we're ready.\n",
              "        channel.send({})\n",
              "        if (message.buffers) {\n",
              "          for (const buffer of message.buffers) {\n",
              "            buffers.push(buffer);\n",
              "            downloaded += buffer.byteLength;\n",
              "            progress.value = downloaded;\n",
              "          }\n",
              "        }\n",
              "      }\n",
              "      const blob = new Blob(buffers, {type: 'application/binary'});\n",
              "      const a = document.createElement('a');\n",
              "      a.href = window.URL.createObjectURL(blob);\n",
              "      a.download = filename;\n",
              "      div.appendChild(a);\n",
              "      a.click();\n",
              "      div.remove();\n",
              "    }\n",
              "  "
            ]
          },
          "metadata": {}
        },
        {
          "output_type": "display_data",
          "data": {
            "text/plain": [
              "<IPython.core.display.Javascript object>"
            ],
            "application/javascript": [
              "download(\"download_6f279958-83ef-45fb-8a33-775c3479a529\", \"classified_alerts.csv\", 334)"
            ]
          },
          "metadata": {}
        },
        {
          "output_type": "stream",
          "name": "stdout",
          "text": [
            "[⬇️] Downloaded: classified_alerts.csv\n"
          ]
        },
        {
          "output_type": "display_data",
          "data": {
            "text/plain": [
              "<IPython.core.display.Javascript object>"
            ],
            "application/javascript": [
              "\n",
              "    async function download(id, filename, size) {\n",
              "      if (!google.colab.kernel.accessAllowed) {\n",
              "        return;\n",
              "      }\n",
              "      const div = document.createElement('div');\n",
              "      const label = document.createElement('label');\n",
              "      label.textContent = `Downloading \"${filename}\": `;\n",
              "      div.appendChild(label);\n",
              "      const progress = document.createElement('progress');\n",
              "      progress.max = size;\n",
              "      div.appendChild(progress);\n",
              "      document.body.appendChild(div);\n",
              "\n",
              "      const buffers = [];\n",
              "      let downloaded = 0;\n",
              "\n",
              "      const channel = await google.colab.kernel.comms.open(id);\n",
              "      // Send a message to notify the kernel that we're ready.\n",
              "      channel.send({})\n",
              "\n",
              "      for await (const message of channel.messages) {\n",
              "        // Send a message to notify the kernel that we're ready.\n",
              "        channel.send({})\n",
              "        if (message.buffers) {\n",
              "          for (const buffer of message.buffers) {\n",
              "            buffers.push(buffer);\n",
              "            downloaded += buffer.byteLength;\n",
              "            progress.value = downloaded;\n",
              "          }\n",
              "        }\n",
              "      }\n",
              "      const blob = new Blob(buffers, {type: 'application/binary'});\n",
              "      const a = document.createElement('a');\n",
              "      a.href = window.URL.createObjectURL(blob);\n",
              "      a.download = filename;\n",
              "      div.appendChild(a);\n",
              "      a.click();\n",
              "      div.remove();\n",
              "    }\n",
              "  "
            ]
          },
          "metadata": {}
        },
        {
          "output_type": "display_data",
          "data": {
            "text/plain": [
              "<IPython.core.display.Javascript object>"
            ],
            "application/javascript": [
              "download(\"download_6aab2592-95d4-46d2-a00e-ba8908a38204\", \"classified_alerts_with_feedback.csv\", 371)"
            ]
          },
          "metadata": {}
        },
        {
          "output_type": "stream",
          "name": "stdout",
          "text": [
            "[⬇️] Downloaded: classified_alerts_with_feedback.csv\n"
          ]
        },
        {
          "output_type": "display_data",
          "data": {
            "text/plain": [
              "<IPython.core.display.Javascript object>"
            ],
            "application/javascript": [
              "\n",
              "    async function download(id, filename, size) {\n",
              "      if (!google.colab.kernel.accessAllowed) {\n",
              "        return;\n",
              "      }\n",
              "      const div = document.createElement('div');\n",
              "      const label = document.createElement('label');\n",
              "      label.textContent = `Downloading \"${filename}\": `;\n",
              "      div.appendChild(label);\n",
              "      const progress = document.createElement('progress');\n",
              "      progress.max = size;\n",
              "      div.appendChild(progress);\n",
              "      document.body.appendChild(div);\n",
              "\n",
              "      const buffers = [];\n",
              "      let downloaded = 0;\n",
              "\n",
              "      const channel = await google.colab.kernel.comms.open(id);\n",
              "      // Send a message to notify the kernel that we're ready.\n",
              "      channel.send({})\n",
              "\n",
              "      for await (const message of channel.messages) {\n",
              "        // Send a message to notify the kernel that we're ready.\n",
              "        channel.send({})\n",
              "        if (message.buffers) {\n",
              "          for (const buffer of message.buffers) {\n",
              "            buffers.push(buffer);\n",
              "            downloaded += buffer.byteLength;\n",
              "            progress.value = downloaded;\n",
              "          }\n",
              "        }\n",
              "      }\n",
              "      const blob = new Blob(buffers, {type: 'application/binary'});\n",
              "      const a = document.createElement('a');\n",
              "      a.href = window.URL.createObjectURL(blob);\n",
              "      a.download = filename;\n",
              "      div.appendChild(a);\n",
              "      a.click();\n",
              "      div.remove();\n",
              "    }\n",
              "  "
            ]
          },
          "metadata": {}
        },
        {
          "output_type": "display_data",
          "data": {
            "text/plain": [
              "<IPython.core.display.Javascript object>"
            ],
            "application/javascript": [
              "download(\"download_939e67be-6324-4c16-b79a-5a254e5a6e08\", \"rules.yaml\", 29)"
            ]
          },
          "metadata": {}
        },
        {
          "output_type": "stream",
          "name": "stdout",
          "text": [
            "[⬇️] Downloaded: rules.yaml\n"
          ]
        },
        {
          "output_type": "display_data",
          "data": {
            "text/plain": [
              "<IPython.core.display.Javascript object>"
            ],
            "application/javascript": [
              "\n",
              "    async function download(id, filename, size) {\n",
              "      if (!google.colab.kernel.accessAllowed) {\n",
              "        return;\n",
              "      }\n",
              "      const div = document.createElement('div');\n",
              "      const label = document.createElement('label');\n",
              "      label.textContent = `Downloading \"${filename}\": `;\n",
              "      div.appendChild(label);\n",
              "      const progress = document.createElement('progress');\n",
              "      progress.max = size;\n",
              "      div.appendChild(progress);\n",
              "      document.body.appendChild(div);\n",
              "\n",
              "      const buffers = [];\n",
              "      let downloaded = 0;\n",
              "\n",
              "      const channel = await google.colab.kernel.comms.open(id);\n",
              "      // Send a message to notify the kernel that we're ready.\n",
              "      channel.send({})\n",
              "\n",
              "      for await (const message of channel.messages) {\n",
              "        // Send a message to notify the kernel that we're ready.\n",
              "        channel.send({})\n",
              "        if (message.buffers) {\n",
              "          for (const buffer of message.buffers) {\n",
              "            buffers.push(buffer);\n",
              "            downloaded += buffer.byteLength;\n",
              "            progress.value = downloaded;\n",
              "          }\n",
              "        }\n",
              "      }\n",
              "      const blob = new Blob(buffers, {type: 'application/binary'});\n",
              "      const a = document.createElement('a');\n",
              "      a.href = window.URL.createObjectURL(blob);\n",
              "      a.download = filename;\n",
              "      div.appendChild(a);\n",
              "      a.click();\n",
              "      div.remove();\n",
              "    }\n",
              "  "
            ]
          },
          "metadata": {}
        },
        {
          "output_type": "display_data",
          "data": {
            "text/plain": [
              "<IPython.core.display.Javascript object>"
            ],
            "application/javascript": [
              "download(\"download_f560a21d-4a10-41ed-bf37-51d10d72d448\", \"audit_log.txt\", 1279)"
            ]
          },
          "metadata": {}
        },
        {
          "output_type": "stream",
          "name": "stdout",
          "text": [
            "[⬇️] Downloaded: audit_log.txt\n"
          ]
        },
        {
          "output_type": "display_data",
          "data": {
            "text/plain": [
              "<IPython.core.display.Javascript object>"
            ],
            "application/javascript": [
              "\n",
              "    async function download(id, filename, size) {\n",
              "      if (!google.colab.kernel.accessAllowed) {\n",
              "        return;\n",
              "      }\n",
              "      const div = document.createElement('div');\n",
              "      const label = document.createElement('label');\n",
              "      label.textContent = `Downloading \"${filename}\": `;\n",
              "      div.appendChild(label);\n",
              "      const progress = document.createElement('progress');\n",
              "      progress.max = size;\n",
              "      div.appendChild(progress);\n",
              "      document.body.appendChild(div);\n",
              "\n",
              "      const buffers = [];\n",
              "      let downloaded = 0;\n",
              "\n",
              "      const channel = await google.colab.kernel.comms.open(id);\n",
              "      // Send a message to notify the kernel that we're ready.\n",
              "      channel.send({})\n",
              "\n",
              "      for await (const message of channel.messages) {\n",
              "        // Send a message to notify the kernel that we're ready.\n",
              "        channel.send({})\n",
              "        if (message.buffers) {\n",
              "          for (const buffer of message.buffers) {\n",
              "            buffers.push(buffer);\n",
              "            downloaded += buffer.byteLength;\n",
              "            progress.value = downloaded;\n",
              "          }\n",
              "        }\n",
              "      }\n",
              "      const blob = new Blob(buffers, {type: 'application/binary'});\n",
              "      const a = document.createElement('a');\n",
              "      a.href = window.URL.createObjectURL(blob);\n",
              "      a.download = filename;\n",
              "      div.appendChild(a);\n",
              "      a.click();\n",
              "      div.remove();\n",
              "    }\n",
              "  "
            ]
          },
          "metadata": {}
        },
        {
          "output_type": "display_data",
          "data": {
            "text/plain": [
              "<IPython.core.display.Javascript object>"
            ],
            "application/javascript": [
              "download(\"download_9d8c525f-a812-446d-80d3-73bb6d216b9b\", \"alert_classifier.pkl\", 48926)"
            ]
          },
          "metadata": {}
        },
        {
          "output_type": "stream",
          "name": "stdout",
          "text": [
            "[⬇️] Downloaded: models/alert_classifier.pkl\n"
          ]
        }
      ],
      "source": [
        "  # ▶️ Run the full pipeline\n",
        "  download_outputs()\n"
      ]
    }
  ]
}